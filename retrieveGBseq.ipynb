{
 "cells": [
  {
   "cell_type": "code",
   "execution_count": null,
   "metadata": {},
   "outputs": [],
   "source": [
    "import numpy as np\n",
    "import pandas as pd\n",
    "import math\n",
    "from datetime import datetime\n",
    "from os import path\n",
    "from Bio import Entrez\n",
    "from Bio import SeqIO\n",
    "from Bio.Blast.Applications import NcbiblastnCommandline\n",
    "Entrez.email = ''\n",
    "Entrez.api_key = ''\n",
    "\n",
    "# register api key and input here along with the registered email\n"
   ]
  },
  {
   "cell_type": "code",
   "execution_count": null,
   "metadata": {
    "scrolled": true
   },
   "outputs": [],
   "source": [
    "## Inspect the datafile\n",
    "## the accession datafile can be downloaded from https://www.ncbi.nlm.nih.gov/gene/?term=rbcl\n",
    "\n",
    "acc_file = 'GBgene/cytb_acc.txt'\n",
    "seq_acc = pd.read_csv(acc_file, sep='\\t')\n",
    "print(seq_acc.shape)\n",
    "seq_acc.head()\n"
   ]
  },
  {
   "cell_type": "markdown",
   "metadata": {},
   "source": [
    "---\n",
    "# Retrieve Gene seq and taxonomy from GenBank"
   ]
  },
  {
   "cell_type": "code",
   "execution_count": null,
   "metadata": {
    "scrolled": true
   },
   "outputs": [],
   "source": [
    "acc_file = 'GBgene/cytb_acc.txt'\n",
    "gene_name = 'CYTB'\n",
    "## change accession datafile name and gene name\n",
    "\n",
    "path_fastafile = 'GbRefgene/gb'+gene_name+'.fasta'\n",
    "\n",
    "\n",
    "accs = pd.read_csv(acc_file, sep='\\t')\n",
    "#t0 = datetime.now()\n",
    "#seqfasta = []\n",
    "#ncaccs = []\n",
    "#hsapiens = 0\n",
    "#unknownpos = []\n",
    "\n",
    "for idx, eachrow in accs.iterrows():\n",
    "    if idx < 12649:    continue\n",
    "    ncacc    = eachrow['genomic_nucleotide_accession.version']\n",
    "    print(idx, 'ncacc =', ncacc)\n",
    "    if type(ncacc) == float:    continue\n",
    "    \n",
    "    startpos = eachrow['start_position_on_the_genomic_accession']\n",
    "    endpos   = eachrow['end_position_on_the_genomic_accession']\n",
    "    if math.isnan(startpos) or math.isnan(endpos):\n",
    "        unknownpos.append(ncacc)\n",
    "        continue\n",
    "    \n",
    "    \n",
    "    handle = Entrez.efetch(db=\"nucleotide\", id=ncacc, rettype=\"gb\", retmode=\"xml\")\n",
    "    gbrec  = Entrez.read(handle)\n",
    "    gbrec  = gbrec[0]\n",
    "    if 'Homo sapiens' in gbrec['GBSeq_organism']:\n",
    "        hsapiens += 1\n",
    "        continue\n",
    "        \n",
    "    handle = Entrez.efetch(db=\"nucleotide\", id=ncacc, rettype=\"fasta\", retmode=\"text\")\n",
    "    ftrec  = SeqIO.read(handle, 'fasta')\n",
    "    \n",
    "    startpos = int(startpos) - 1\n",
    "    endpos   = int(endpos)\n",
    "    ftrec.seq = ftrec.seq[startpos:endpos]\n",
    "    ftrec.description = gbrec['GBSeq_taxonomy'].replace(' ', '') + ';' + gbrec['GBSeq_organism'].replace(' ', '_')\n",
    "    \n",
    "    \n",
    "    while ncacc in ncaccs:\n",
    "        ncacc = ncacc[:-1] + str(int(ncacc[-1])+1)\n",
    "    ftrec.id = ncacc\n",
    "    ncaccs.append(ncacc)\n",
    "    seqfasta.append(ftrec)\n",
    "    \n",
    "    if (idx+1) % 1000 == 0:\n",
    "        print('Row', idx, '- Number of seq =', len(seqfasta))\n",
    "\n",
    "\n",
    "t1 = datetime.now()\n",
    "print('Total time:', t1-t0)\n",
    "print('Num of Homo sapiens =', hsapiens)\n",
    "print('Num of seq with no position =', len(unknownpos))\n",
    "SeqIO.write(seqfasta, path_fastafile, 'fasta')\n"
   ]
  },
  {
   "cell_type": "markdown",
   "metadata": {},
   "source": [
    "---\n",
    "## Prepare local Gene local BLAST database (only need to build once)"
   ]
  },
  {
   "cell_type": "code",
   "execution_count": null,
   "metadata": {},
   "outputs": [],
   "source": [
    "## change -title\n",
    "## make sure the gene name is the same as previous\n",
    "gene_name = 'CYTB'\n",
    "\n",
    "path_fastafile = 'GbRefgene/gb'+gene_name+'.fasta'\n",
    "dbtitle = gene_name+'ref'\n",
    "!makeblastdb -in {path_fastafile} -parse_seqids -title {dbtitle} -dbtype nucl\n"
   ]
  }
 ],
 "metadata": {
  "kernelspec": {
   "display_name": "Python 3",
   "language": "python",
   "name": "python3"
  },
  "language_info": {
   "codemirror_mode": {
    "name": "ipython",
    "version": 3
   },
   "file_extension": ".py",
   "mimetype": "text/x-python",
   "name": "python",
   "nbconvert_exporter": "python",
   "pygments_lexer": "ipython3",
   "version": "3.5.2"
  }
 },
 "nbformat": 4,
 "nbformat_minor": 4
}
