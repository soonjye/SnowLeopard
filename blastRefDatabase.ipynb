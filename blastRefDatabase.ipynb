{
 "cells": [
  {
   "cell_type": "code",
   "execution_count": 4,
   "metadata": {},
   "outputs": [],
   "source": [
    "import numpy as np\n",
    "import pandas as pd\n",
    "from os import path\n",
    "from datetime import datetime\n",
    "from Bio import SeqIO\n",
    "from Bio.Blast.Applications import NcbiblastnCommandline\n",
    "\n",
    "\n"
   ]
  },
  {
   "cell_type": "markdown",
   "metadata": {},
   "source": [
    "---\n",
    "## Build local BLAST database\n",
    "#### only need to build once. Ignore this part if you have performed this before"
   ]
  },
  {
   "cell_type": "code",
   "execution_count": 5,
   "metadata": {
    "scrolled": true
   },
   "outputs": [
    {
     "name": "stdout",
     "output_type": "stream",
     "text": [
      "\n",
      "\n",
      "Building a new DB, current time: 08/10/2021 17:52:16\n",
      "New DB name:   /home/soonjye/Documents/Snowleopard_Github/GbRefgene/gbCOX3.fasta\n",
      "New DB title:  COX3ref\n",
      "Sequence type: Nucleotide\n",
      "Keep Linkouts: T\n",
      "Keep MBits: T\n",
      "Maximum file size: 1000000000B\n",
      "Adding sequences from FASTA; added 9470 sequences in 0.252355 seconds.\n",
      "\n",
      "\n",
      "Building a new DB, current time: 08/10/2021 17:52:16\n",
      "New DB name:   /home/soonjye/Documents/Snowleopard_Github/GbRefgene/gbCYTB.fasta\n",
      "New DB title:  CYTBref\n",
      "Sequence type: Nucleotide\n",
      "Keep Linkouts: T\n",
      "Keep MBits: T\n",
      "Maximum file size: 1000000000B\n",
      "Adding sequences from FASTA; added 9977 sequences in 0.313547 seconds.\n"
     ]
    }
   ],
   "source": [
    "## change the name of genes that is going to be built into local database\n",
    "gene_names = ['COX3', 'CYTB']\n",
    "\n",
    "for gene_name in gene_names:\n",
    "    path_fastafile = 'GbRefgene/gb'+gene_name+'.fasta'\n",
    "    dbtitle = gene_name+'ref'\n",
    "    !makeblastdb -in {path_fastafile} -parse_seqids -title {dbtitle} -dbtype nucl\n",
    "\n"
   ]
  },
  {
   "cell_type": "markdown",
   "metadata": {},
   "source": [
    "---\n",
    "## Prepare Query file\n",
    "fasta file of sequencing reads"
   ]
  },
  {
   "cell_type": "code",
   "execution_count": 6,
   "metadata": {},
   "outputs": [],
   "source": [
    "query_files = ['CT-4.fa']\n",
    "# change to filenames that is going to be blasted\n",
    "\n",
    "gene_names = ['COX3', 'CYTB']\n",
    "# change the list of genes that is gonna be blasted upon"
   ]
  },
  {
   "cell_type": "markdown",
   "metadata": {},
   "source": [
    "---\n",
    "## Run Blast against Local Reference Databases"
   ]
  },
  {
   "cell_type": "code",
   "execution_count": 8,
   "metadata": {},
   "outputs": [
    {
     "name": "stdout",
     "output_type": "stream",
     "text": [
      "\n",
      "Blasting CT-4.fa against COX3 database... Completed. Runtime:  0:02:39.165319 \n",
      "\n",
      "\n",
      "Blasting CT-4.fa against CYTB database... Completed. Runtime:  0:02:47.590053 \n",
      "\n"
     ]
    }
   ],
   "source": [
    "for query_file in query_files:\n",
    "\n",
    "    !mkdir {query_file}_blastResults\n",
    "\n",
    "    for gene_name in gene_names:\n",
    "        \n",
    "        path_fastafile = 'GbRefgene/gb'+gene_name+'.fasta'\n",
    "        path_blastout  = query_file+'_blastResults/blast'+gene_name+'.tsv'\n",
    "        \n",
    "        blastx_cline = NcbiblastnCommandline(query=query_file, db=path_fastafile, evalue=0.001, outfmt=\"6 qseqid qlen sseqid stitle pident length mismatch gapopen qstart qend sstart send evalue bitscore\", out=path_blastout)\n",
    "        print('\\nBlasting '+query_file+' against', gene_name, 'database...', end=\" \")\n",
    "        t0 = datetime.now()\n",
    "        stdout, stderr = blastx_cline()\n",
    "        t1 = datetime.now()\n",
    "        print('Completed. Runtime: ', t1 - t0)\n",
    "                                     \n",
    "    print('\\n')\n",
    "\n"
   ]
  },
  {
   "cell_type": "markdown",
   "metadata": {},
   "source": [
    "---\n",
    "# Parse Blast results"
   ]
  },
  {
   "cell_type": "code",
   "execution_count": 75,
   "metadata": {},
   "outputs": [
    {
     "name": "stdout",
     "output_type": "stream",
     "text": [
      "Query File = CT-4.fa\n",
      "Parsing blast COI result \t Number of reads with hits = 77\n",
      "Parsing blast COX3 result \t Number of reads with hits = 14\n",
      "Parsing blast CYTB result \t Number of reads with hits = 2439\n",
      "Parsing blast ND2 result \t Number of reads with hits = 189\n",
      "Parsing blast ND4 result \t Number of reads with hits = 193\n"
     ]
    }
   ],
   "source": [
    "barcodes = ['COI', 'COX3', 'CYTB', 'ND2', 'ND4']\n",
    "\n",
    "print('Query File =', query_file)\n",
    "for barcode in barcodes:\n",
    "    blastn = pd.read_csv(query_file+'_blastResults/blast'+barcode+'.tsv', sep='\\t', header=None)\n",
    "    blastn.columns = 'qseqid qlen sseqid stitle pident length mismatch gapopen qstart qend sstart send evalue bitscore'.split(' ')\n",
    "    reads = set(blastn['qseqid'])\n",
    "    print('Parsing blast ' + barcode + ' result \\t Number of reads with hits =', len(reads))\n",
    "\n",
    "\n",
    "    punciaidx  = []\n",
    "    pantheridx = []\n",
    "    neitheridx = []\n",
    "    prev = ''\n",
    "    \n",
    "    ## filter hits if it belongs to human, bacteria, or fungi\n",
    "    for idx, eachrow in blastn.iterrows():\n",
    "        if (idx+1) % 100000 == 0:    print(idx)\n",
    "        \n",
    "        if 'Homo_sapiens' in eachrow['stitle']:    continue\n",
    "        if 'Bacteria' in eachrow['stitle']:    continue\n",
    "        if 'Fungi' in eachrow['stitle']:    continue\n",
    "\n",
    "        read = eachrow['qseqid']\n",
    "        if read != prev:\n",
    "            prev = read\n",
    "            if 'Panthera_uncia' in eachrow['stitle']:\n",
    "                punciaidx.append(idx)\n",
    "            elif 'Panthera' in eachrow['stitle']:\n",
    "                pantheridx.append(idx)\n",
    "            else:\n",
    "                neitheridx.append(idx)\n",
    "\n",
    "\n",
    "    ## filter hits if it is <98% identity and <50 bp overlap\n",
    "    subset = blastn.loc[punciaidx+pantheridx+neitheridx, :]\n",
    "\n",
    "    towrite= []\n",
    "    for idx, eachrow in subset.iterrows():\n",
    "        qlen   = eachrow[1]\n",
    "        alen   = eachrow[5]\n",
    "        pident = eachrow[4]\n",
    "        if alen > 50 and pident > 98:\n",
    "            towrite.append(idx)\n",
    "\n",
    "    if len(towrite) == 0:\n",
    "        print('Parsing blast ' + barcode + ' result \\t No hit that belongs to Panthera nor others with identity > 98%')\n",
    "        continue\n",
    "\n",
    "    ## retrieve read sequence from query_file\n",
    "    subset = subset.loc[towrite,:]\n",
    "    qseqids = list(set(list(subset['qseqid'])))\n",
    "    qseqdict = dict()\n",
    "\n",
    "    zipfa = SeqIO.parse(query_file, 'fasta')\n",
    "    for read in zipfa:\n",
    "        if read.id in qseqids:\n",
    "            qseqdict[read.id] = read.seq\n",
    "\n",
    "    qseqs = []\n",
    "    for idx, eachrow in subset.iterrows():\n",
    "        qseqs.append(str(qseqdict[eachrow['qseqid']]))\n",
    "    subset['qseq'] = qseqs\n",
    "    subset.to_csv(query_file + '_blastResults/blast' + barcode + '-iden98.tsv', sep='\\t')\n"
   ]
  },
  {
   "cell_type": "markdown",
   "metadata": {},
   "source": [
    "## Extract Top 1 hit for each read"
   ]
  },
  {
   "cell_type": "code",
   "execution_count": 76,
   "metadata": {},
   "outputs": [
    {
     "name": "stdout",
     "output_type": "stream",
     "text": [
      "Query File = CT-4.fa\n",
      "Extract top hit of blast result (>98% identity & >50bp overlap)\n",
      "\tExtracting gene COI ...\n",
      "\tExtracting gene COX3 ...\n",
      "\tExtracting gene CYTB ...\n",
      "\tExtracting gene ND2 ...\n",
      "\tExtracting gene ND4 ...\n",
      "\tCompleted\n"
     ]
    }
   ],
   "source": [
    "barcodes = ['COI', 'COX3', 'CYTB', 'ND2', 'ND4']\n",
    "\n",
    "print('Query File =', query_file)\n",
    "print('Extract top hit of blast result (>98% identity & >50bp overlap)')\n",
    "for barcode in barcodes:\n",
    "    print('\\tExtracting gene', barcode, '...')\n",
    "    if not path.exists(query_file + '_blastResults/blast' + barcode + '-iden98.tsv'):    continue\n",
    "    ident = pd.read_csv(query_file + '_blastResults/blast' + barcode + '-iden98.tsv', sep='\\t', index_col=0)\n",
    "\n",
    "    qseqids = []\n",
    "    best5 = []\n",
    "    best1 = []\n",
    "\n",
    "    for idx, eachrow in ident.iterrows():\n",
    "        qseqid = eachrow['qseqid']\n",
    "        if qseqid in qseqids:    continue\n",
    "\n",
    "        qseqids.append(qseqid)\n",
    "\n",
    "        subset = ident[ident['qseqid'] == qseqid]\n",
    "        subset = subset.sort_index('index')\n",
    "        \n",
    "        ## the index is generated by blastn output\n",
    "        ## the index is arranged according to qseqid, then e-value\n",
    "        [best1.append(x) for x in subset.index[:1]]\n",
    "\n",
    "    ident.loc[best1, :].to_csv(query_file + '_blastResults/blast' + barcode + '-top1.tsv', sep='\\t')\n",
    "\n",
    "print('\\tCompleted')"
   ]
  },
  {
   "cell_type": "markdown",
   "metadata": {},
   "source": [
    "## Counting Prey Species"
   ]
  },
  {
   "cell_type": "code",
   "execution_count": 77,
   "metadata": {},
   "outputs": [
    {
     "name": "stdout",
     "output_type": "stream",
     "text": [
      "Query File = CT-4.fa\n",
      "Counting species from top1 result...\n",
      "\tCounting of gene COI ...\n",
      "\tCounting of gene COX3 ...\n",
      "\tCounting of gene CYTB ...\n",
      "\tCounting of gene ND2 ...\n",
      "\tCounting of gene ND4 ...\n",
      "\tCompleted\n"
     ]
    }
   ],
   "source": [
    "allprey = dict()\n",
    "\n",
    "barcodes = ['COI', 'COX3', 'CYTB', 'ND2', 'ND4']\n",
    "\n",
    "print('Query File =', query_file)\n",
    "print('Counting species from top1 result...')\n",
    "for idx, barcode in enumerate(barcodes):\n",
    "    print('\\tCounting of gene', barcode, '...')\n",
    "    if not path.exists(query_file + '_blastResults/blast' + barcode + '-top1.tsv'):    continue\n",
    "    ident = pd.read_csv(query_file + '_blastResults/blast' + barcode + '-top1.tsv', sep='\\t', index_col=0)\n",
    "    \n",
    "    preys = list(ident.stitle)\n",
    "    preys = [x.split(';')[-1] for x in preys]\n",
    "\n",
    "    for prey in preys:\n",
    "        if prey not in allprey.keys():    allprey[prey] = [0]*len(barcodes)\n",
    "        allprey[prey][idx] += 1\n",
    "\n",
    "allprey = pd.DataFrame.from_dict(allprey, orient='index')\n",
    "allprey.columns = barcodes\n",
    "allprey.to_csv(query_file + '_blastResults/spc_count_.tsv', sep='\\t')\n",
    "\n",
    "\n",
    "print('\\tCompleted')"
   ]
  }
 ],
 "metadata": {
  "kernelspec": {
   "display_name": "Python 3",
   "language": "python",
   "name": "python3"
  },
  "language_info": {
   "codemirror_mode": {
    "name": "ipython",
    "version": 3
   },
   "file_extension": ".py",
   "mimetype": "text/x-python",
   "name": "python",
   "nbconvert_exporter": "python",
   "pygments_lexer": "ipython3",
   "version": "3.5.2"
  }
 },
 "nbformat": 4,
 "nbformat_minor": 4
}
